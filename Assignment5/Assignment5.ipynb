{
  "metadata": {
    "language_info": {
      "codemirror_mode": {
        "name": "python",
        "version": 3
      },
      "file_extension": ".py",
      "mimetype": "text/x-python",
      "name": "python",
      "nbconvert_exporter": "python",
      "pygments_lexer": "ipython3",
      "version": "3.8"
    },
    "kernelspec": {
      "name": "python",
      "display_name": "Python (Pyodide)",
      "language": "python"
    }
  },
  "nbformat_minor": 4,
  "nbformat": 4,
  "cells": [
    {
      "cell_type": "code",
      "source": "import numpy as np\nimport math\nimport ntlib as l",
      "metadata": {
        "trusted": true
      },
      "execution_count": 1,
      "outputs": []
    },
    {
      "cell_type": "code",
      "source": "#question 1 using midpoint method\n\ndef f1(x):\n    return((1+1/x)**0.5)\n    \na = l.midpoint_method(1,4,10,f1)\nprint(a)\nb = l.midpoint_method(1,4,20,f1)\nprint(b)\nc = l.midpoint_method(1,4,30,f1)\nprint(c)",
      "metadata": {
        "trusted": true
      },
      "execution_count": 2,
      "outputs": [
        {
          "name": "stdout",
          "text": "3.618978894\n3.619880032\n3.620048812\n",
          "output_type": "stream"
        }
      ]
    },
    {
      "cell_type": "code",
      "source": "#question 1 using trapezoidal method\n\na = l.trapezoidal(1,4,10,f1)\nprint(a)\nb = l.trapezoidal(1,4,20,f1)\nprint(b)\nc = l.trapezoidal(1,4,30,f1)\nprint(c)",
      "metadata": {
        "trusted": true
      },
      "execution_count": 3,
      "outputs": [
        {
          "name": "stdout",
          "text": "3.62260838\n3.620793637\n3.620455388\n",
          "output_type": "stream"
        }
      ]
    },
    {
      "cell_type": "code",
      "source": "#question 1 using simpson method\n\na = l.simpson( 1, 4, 10,f1 )\nprint(a)\nb = l.simpson( 1, 4, 20,f1 )\nprint(b)\nc = l.simpson( 1, 4, 30,f1 )\nprint(c)",
      "metadata": {
        "trusted": true
      },
      "execution_count": 4,
      "outputs": [
        {
          "name": "stdout",
          "text": "3.620248168\n3.620188723\n3.620185179\n",
          "output_type": "stream"
        }
      ]
    },
    {
      "cell_type": "code",
      "source": "# Tatbular  Comparision\n\n# Midpoint           Trapezoidal            Simpson\n# 3.618978894        3.62260838             3.620248168   \n# 3.619880032        3.620793637            3.620188723\n# 3.620048812        3.620455388            3.620185179  ",
      "metadata": {
        "trusted": true
      },
      "execution_count": 5,
      "outputs": []
    },
    {
      "cell_type": "code",
      "source": "def f(x):\n    return((math.sin(x))**2)\n\nl.monte_carlo(-1,1,10,1000000,f)",
      "metadata": {
        "trusted": true
      },
      "execution_count": 6,
      "outputs": [
        {
          "execution_count": 6,
          "output_type": "execute_result",
          "data": {
            "text/plain": "0.5453010119571675"
          },
          "metadata": {}
        }
      ]
    },
    {
      "cell_type": "code",
      "source": "#question 3\ndef Lambda(x):\n    return(x**2)\n\ndef xLambda(x):\n    return(x**3)\n\n# for a rod with mass density Lambda:\n# X_cm = integral(x*lambda*dx)/integral(lambda*dx) from 0 to 2\n\nA = l.midpoint_method(0,2,20,Lambda)\nB = l.midpoint_method(0,2,20,xLambda)\nC = B/A\nprint((C),\"is the center of mass of the rod\")",
      "metadata": {
        "trusted": true
      },
      "execution_count": 7,
      "outputs": [
        {
          "name": "stdout",
          "text": "1.4990619136960601 is the center of mass of the rod\n",
          "output_type": "stream"
        }
      ]
    },
    {
      "cell_type": "code",
      "source": "",
      "metadata": {},
      "execution_count": null,
      "outputs": []
    }
  ]
}