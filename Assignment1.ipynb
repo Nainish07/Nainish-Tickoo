{
  "metadata": {
    "language_info": {
      "codemirror_mode": {
        "name": "python",
        "version": 3
      },
      "file_extension": ".py",
      "mimetype": "text/x-python",
      "name": "python",
      "nbconvert_exporter": "python",
      "pygments_lexer": "ipython3",
      "version": "3.8"
    },
    "kernelspec": {
      "name": "python",
      "display_name": "Python (Pyodide)",
      "language": "python"
    }
  },
  "nbformat_minor": 4,
  "nbformat": 4,
  "cells": [
    {
      "cell_type": "code",
      "source": "# Question 1 Part A\n# to Calculate the sum of first N odd Numbers.\ndef sum_odd(N):\n  a = 0\n  for i in range(0,N):\n    z = 2*i + 1\n    a = a + z\n  print(a)",
      "metadata": {
        "trusted": true
      },
      "execution_count": 158,
      "outputs": []
    },
    {
      "cell_type": "code",
      "source": "sum_odd(5)\n",
      "metadata": {
        "trusted": true
      },
      "execution_count": 159,
      "outputs": [
        {
          "name": "stdout",
          "text": "25\n",
          "output_type": "stream"
        }
      ]
    },
    {
      "cell_type": "code",
      "source": "# Question 1 Part A\n#to calculate the factorial of N \n# where n is a Natural Number\n\ndef fact(N):\n  k = 1\n  if N < 0:\n    print('cannot calculate')\n  elif N == 0:\n    print('1')\n  else:\n    while N>0:\n      k = k*N\n      N = N - 1\n    print(k)\n",
      "metadata": {
        "trusted": true
      },
      "execution_count": 29,
      "outputs": []
    },
    {
      "cell_type": "code",
      "source": "fact(9)",
      "metadata": {
        "trusted": true
      },
      "execution_count": 30,
      "outputs": [
        {
          "name": "stdout",
          "text": "362880\n",
          "output_type": "stream"
        }
      ]
    },
    {
      "cell_type": "code",
      "source": "# Question 2 Part A\n# Sum of a AP\n# Common Difference \"1.5\"\ndef AP(a,N): \n# input of 'a' as the first term is not specified\n  for j in range(0,N):\n    a = a + 1.5\n  print(a)",
      "metadata": {
        "trusted": true
      },
      "execution_count": 31,
      "outputs": []
    },
    {
      "cell_type": "code",
      "source": "AP(3,150)",
      "metadata": {
        "trusted": true
      },
      "execution_count": 32,
      "outputs": [
        {
          "name": "stdout",
          "text": "228.0\n",
          "output_type": "stream"
        }
      ]
    },
    {
      "cell_type": "code",
      "source": "# Question 2 Part B\n# Sum of a GP\n# Common Ratio \"0.5\"\ndef GP(a,N):\n  s = a\n  for j in range(0,N-1):\n    a = a * 0.5\n    s = s + a\n  print(s)",
      "metadata": {
        "trusted": true
      },
      "execution_count": 33,
      "outputs": []
    },
    {
      "cell_type": "code",
      "source": "GP(1,10)",
      "metadata": {
        "trusted": true
      },
      "execution_count": 34,
      "outputs": [
        {
          "name": "stdout",
          "text": "1.998046875\n",
          "output_type": "stream"
        }
      ]
    },
    {
      "cell_type": "code",
      "source": "# Question 2 Part C\n# Sum of a HP\n# Common Difference \"1.5\"\ndef HP(A,N):  \n  a = 1/A\n  for i in range(0,N-1): \n    A = A + 1.5\n    a = a + 1/A \n  print(a)",
      "metadata": {
        "trusted": true
      },
      "execution_count": 35,
      "outputs": []
    },
    {
      "cell_type": "code",
      "source": "HP(1,5)",
      "metadata": {
        "trusted": true
      },
      "execution_count": 36,
      "outputs": [
        {
          "name": "stdout",
          "text": "1.9746753246753246\n",
          "output_type": "stream"
        }
      ]
    },
    {
      "cell_type": "code",
      "source": "# Question 3 \nimport matplotlib.pyplot as plt\n# Sum of a Series\n# Common Ratio \"-0.5\"\n\ndef series_1(n):\n  a = 1/2\n  s = a\n  y = []\n  x = list(range(1,n))\n  for i in range(0,n-1):  \n    a = a*(-1/2)\n    s = s + a\n    y.append(s)\n  print(s)\n  plt.plot((x),y)\n  plt.show()\nseries_1(13)",
      "metadata": {
        "trusted": true
      },
      "execution_count": 165,
      "outputs": [
        {
          "name": "stdout",
          "text": "0.3333740234375\n",
          "output_type": "stream"
        },
        {
          "output_type": "display_data",
          "data": {
            "text/plain": "<pyolite.display.Image at 0x3bbae30>",
            "image/png": "[encoded data removed]"
          },
          "metadata": {}
        }
      ]
    },
    {
      "cell_type": "code",
      "source": "# printing of a matrix\ndef prnt_matrix(a):\n  for i in range(0,len(a)):\n    for j in range(0,len(a[i])):\n      print(a[i][j],end = \" \")\n    print(\"\") # for giving space between the elements\n  print(\"\") # for giving the space betwwn the matrix",
      "metadata": {
        "trusted": true
      },
      "execution_count": 166,
      "outputs": []
    },
    {
      "cell_type": "code",
      "source": "# for creation of a matrix\ndef matrix(n,m,x):\n  z = []\n  x_1 = []\n  for k in range(0,len(x)):\n   x_1.append(x.pop()) #inverting the list\n\n  for i in range(0,n): #placing the elements in a double array\n    a = []\n    for j in range(0,m):\n      a.append(x_1.pop())\n    z.append(a)\n  prnt_matrix(z)\n  return z",
      "metadata": {
        "trusted": true
      },
      "execution_count": 39,
      "outputs": []
    },
    {
      "cell_type": "code",
      "source": "# input can be taken from file\na = [2,-3,1.4,2.5,1,-2,-0.8,0,3.1]\nA = matrix(3,3,a) \nb = [0,-1,1,1.5,0.5,-2,3,0,-2]\nB = matrix(3,3,b)\nc = [-2,0.5,1.5]\nC = matrix(3,1,c)\nd = [1,0,-1]\nD = matrix(3,1,d)",
      "metadata": {
        "trusted": true
      },
      "execution_count": 146,
      "outputs": [
        {
          "name": "stdout",
          "text": "2 -3 1.4 \n2.5 1 -2 \n-0.8 0 3.1 \n\n0 -1 1 \n1.5 0.5 -2 \n3 0 -2 \n\n-2 \n0.5 \n1.5 \n\n1 \n0 \n-1 \n\n",
          "output_type": "stream"
        }
      ]
    },
    {
      "cell_type": "code",
      "source": "# Question 4 product of 2 matrix\ndef Product_1(a,b):\n  N=[]\n  \n  for i in range(0,len(a)):\n    h = []\n    for j in range(0,len(b[0])):\n      s = 0\n      for k in range(0,len(b)):\n        temp = a[i][k]*b[k][j]\n        s = temp + s\n      h.append(round(s,3))\n    N.append(h)\n  prnt_matrix(N)\n  print(\" \")\n\n        \n      \n        \n    \ndef Product_2(a,b): # dot product\n  z = []\n  s = 0\n  for i in range(0,len(a)):\n    s = s +  a[i][0]*b[i][0]\n  z.append(s)\n  print(z)\n  print(\" \")\n\n      ",
      "metadata": {
        "trusted": true
      },
      "execution_count": 156,
      "outputs": []
    },
    {
      "cell_type": "code",
      "source": "Product_2(C,D)\nProduct_1(A,B)\nProduct_1(B,C)",
      "metadata": {
        "trusted": true
      },
      "execution_count": 157,
      "outputs": [
        {
          "name": "stdout",
          "text": "[-3.5]\n \n-0.3 -3.5 5.2 \n-4.5 -2.0 4.5 \n9.3 0.8 -7.0 \n\n \n1.0 \n-5.75 \n-9.0 \n\n \n",
          "output_type": "stream"
        }
      ]
    },
    {
      "cell_type": "code",
      "source": "# Question 5 \n# defining a class for complex numbers\nclass My_complex: \n    def __init__(self,r,i): # creating the complex number\n        self.real = r\n        self.imaginary = i\n        \n    def prnt_complex(self): # printing the complex number\n        if self.imaginary>0:\n            print(self.real,end =' + ' ) \n            print(self.imaginary,end ='i' )\n            print(' ')\n        elif self.imaginary == 0:\n            print(self.real)\n        else:\n            print(self.real,end =' - ' )\n            print(abs(self.imaginary),end ='i' )\n            print(' ')\n    \n    \n\ndef add(c1,c2): # complex addition\n    c4 = My_complex(0,0)\n    c4.real = c1.real + c2.real\n    c4.imaginary  = c1.imaginary + c2.imaginary\n    return c3\n\ndef product(c1,c2): # complex Product\n    c3 = My_complex(0,0) \n    c3.real = (c1.real)*(c2.real) - (c1.imaginary)*(c2.imaginary)\n    c3.imaginary = (c1.real)*(c2.imaginary) + (c2.real)*(c1.imaginary)\n    return c3\n    \n    \ndef Mod(c1): # Modulus of the complex number\n    Z = (c1.real)**2 + (c1.imaginary)**2\n    z = Z ** 0.5\n    print(z,end =' is the modulus of the complex number')\n    print(\" \")\n    ",
      "metadata": {
        "trusted": true
      },
      "execution_count": 137,
      "outputs": []
    },
    {
      "cell_type": "code",
      "source": "C1 = My_complex(3,-2)\nC1.prnt_complex()\nMod(C1)\nC2 = My_complex(1,2)\nC2.prnt_complex()\nMod(C2)\nC3 = add(C1,C2)\nC3.prnt_complex()\nC4 = product(C1,C2)\nC4.prnt_complex()",
      "metadata": {
        "trusted": true
      },
      "execution_count": 138,
      "outputs": [
        {
          "name": "stdout",
          "text": "3 - 2i \n3.605551275463989 is the modulus of the complex number \n1 + 2i \n2.23606797749979 is the modulus of the complex number \n4\n \n7 + 4i \n",
          "output_type": "stream"
        }
      ]
    }
  ]
}