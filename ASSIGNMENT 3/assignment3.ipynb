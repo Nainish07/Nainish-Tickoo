{
  "metadata": {
    "language_info": {
      "codemirror_mode": {
        "name": "python",
        "version": 3
      },
      "file_extension": ".py",
      "mimetype": "text/x-python",
      "name": "python",
      "nbconvert_exporter": "python",
      "pygments_lexer": "ipython3",
      "version": "3.8"
    },
    "kernelspec": {
      "name": "python",
      "display_name": "Python (Pyodide)",
      "language": "python"
    }
  },
  "nbformat_minor": 4,
  "nbformat": 4,
  "cells": [
    {
      "cell_type": "code",
      "source": "# printin of a matrix\ndef prnt_matrix(a):\n  for i in range(0,len(a)):\n    for j in range(0,len(a[i])):\n      print(a[i][j],end = \" \")\n    print(\"\")\n  print(\"\")",
      "metadata": {
        "trusted": true
      },
      "execution_count": 1,
      "outputs": []
    },
    {
      "cell_type": "code",
      "source": "# for creation of a matrix\ndef matrix(n,m,x):\n  z = []\n  x_1 = []\n  for k in range(0,len(x)):\n   x_1.append(x.pop())\n\n  for i in range(0,n):\n    a = []\n    for j in range(0,m):\n      a.append(x_1.pop())\n    z.append(a)\n  prnt_matrix(z)\n  return z",
      "metadata": {
        "trusted": true
      },
      "execution_count": 2,
      "outputs": []
    },
    {
      "cell_type": "code",
      "source": "\ndef max_swap(z,a):\n  for i in range(a,len(z)):\n    for j in range(i+1,len(z)):\n      if abs(z[i][a]) < abs(z[j][a]):\n        m = z[i]\n        z[i] = z[j]\n        z[j] = m\n      else:\n        break\n  \n\ndef norm_row(z,a):\n  x = []\n  for i in range(0,len(z)+1):\n    c = z[a][i]\n    x.append(round(c/z[a][a],2))\n  z[a] = x\n  \n\n\ndef coloumn(z,a):\n  for i in range(a+1,len(z)):\n    x = []\n    if abs(z[i][a]) > 0:\n      for j in range(0,len(z[i])):\n        c = round(z[i][j] - z[a][j]*z[i][a],2)\n        x.append(c)\n      z[i] = x\n  \n  \n\ndef reverse_coloumn(z,a):\n  for i in range(a-1,-1,-1):\n    if abs(z[i][a]) > 0:\n      for j in range(len(z[i])-1,-1,-1):\n        c = round(z[i][j]-z[a][j]*z[i][a],2) \n        z[i][j] = c\n  return z\n\ndef give_solutions(z):\n    for i in range(0,len(z)):\n        print((i+1),end =\" root is equal to \")\n        print(z[i][len(z)])",
      "metadata": {
        "trusted": true
      },
      "execution_count": 54,
      "outputs": []
    },
    {
      "cell_type": "code",
      "source": "def gj_elimination(z):\n  for i in range(0,len(z)):\n    max_swap(z,i)\n    norm_row(z,i)\n    coloumn(z,i)\n  for j in range(len(z)-1,-1,-1):\n    reverse_coloumn(z,j)\n  give_solutions(z)\n  return z\n",
      "metadata": {
        "trusted": true
      },
      "execution_count": 55,
      "outputs": []
    },
    {
      "cell_type": "code",
      "source": "# z = [0,1,1,-2,-3,1,2,-1,0,2,2,4,1,-3,-2,1,-4,-7,-1,-19]\n# Z = matrix(4,5,z)\n# gj_elimination(Z)\n# print(\" \")\n# prnt_matrix(Z)\n",
      "metadata": {
        "trusted": true
      },
      "execution_count": 56,
      "outputs": []
    },
    {
      "cell_type": "code",
      "source": "#question1 using gauss-jordan\n\nv = [1,-1,4,0,2,9,19,0,5,-2,7,8,4,2,1,0,5,7,3,-2,13,6,-1,2,3,0,8,-7,-4,2,0,5,-5,3,-9,0,7,-1,5,4,-2,2]\nV = matrix(6,7,v)\ngj_elimination(V)\nprint(\" \")\nprnt_matrix(V)",
      "metadata": {
        "trusted": true
      },
      "execution_count": 57,
      "outputs": [
        {
          "name": "stdout",
          "text": "1 -1 4 0 2 9 19 \n0 5 -2 7 8 4 2 \n1 0 5 7 3 -2 13 \n6 -1 2 3 0 8 -7 \n-4 2 0 5 -5 3 -9 \n0 7 -1 5 4 -2 2 \n\n1 root is equal to -1.75\n2 root is equal to 0.92\n3 root is equal to 4.06\n4 root is equal to -1.63\n5 root is equal to 2.04\n6 root is equal to 0.15\n \n1.0 0.0 0.0 0.0 0.0 0.0 -1.75 \n0.0 1.0 0.0 0.0 0.0 0.0 0.92 \n0.0 0.0 1.0 0.0 0.0 0.0 4.06 \n0.0 0.0 0.0 1.0 0.0 0.0 -1.63 \n-0.0 -0.0 -0.0 -0.0 1.0 0.0 2.04 \n0.0 0.0 0.0 0.0 0.0 1.0 0.15 \n\n",
          "output_type": "stream"
        }
      ]
    },
    {
      "cell_type": "code",
      "source": "",
      "metadata": {},
      "execution_count": null,
      "outputs": []
    },
    {
      "cell_type": "code",
      "source": "def seidel(a,b):\n  L = []\n  v = []\n  for i in range(0,len(a)):\n    L.append(0)\n    v.append(0)\n  # print(L)\n  # print(v)\n  k = 0\n  e = 10\n  while e > 0.000001:\n    for i in range(0,len(a)):\n      sum1 = 0\n      sum2 = 0\n      for j in range(0,i):\n        sum1 = sum1 + a[i-1][j-1]*L[j-1]\n      for j in range(i+1,len(a)):\n        sum2 = sum2 + a[i-1][j-1]*L[j-1]\n      v[i-1] = L[i-1]\n      L[i-1] = (b[i-1] - sum1 - sum2)/a[i-1][i-1]\n    e = (abs(L[3])-abs(v[3]))/abs(L[3])\n    k = k + 1\n    print(L)\n    print(k)\n    if k > 30:\n      print('diverging')\n      break",
      "metadata": {
        "trusted": true
      },
      "execution_count": 208,
      "outputs": []
    },
    {
      "cell_type": "code",
      "source": "",
      "metadata": {
        "trusted": true
      },
      "execution_count": null,
      "outputs": []
    },
    {
      "cell_type": "code",
      "source": "#question 2 gauss-Seidel\na = [4,-1,0,-1,0,0,-1,4,-1,0,-1,0,0,-1,4,0,0,-1,-1,0,0,4,-1,0,0,-1,0,-1,4,-1,0,0,-1,0,-1,4]\nA = matrix(6,6,a)\nb = [2,1,2,2,1,2]\nseidel(A,b)",
      "metadata": {
        "trusted": true
      },
      "execution_count": 209,
      "outputs": [
        {
          "name": "stdout",
          "text": "4 -1 0 -1 0 0 \n-1 4 -1 0 -1 0 \n0 -1 4 0 0 -1 \n-1 0 0 4 -1 0 \n0 -1 0 -1 4 -1 \n0 0 -1 0 -1 4 \n\n[0.5, 0.375, 0.71875, 0.625, 0.625, 0.5]\n1\n[0.75, 0.7734375, 0.90234375, 0.84375, 0.86328125, 0.8359375]\n2\n[0.904296875, 0.91748046875, 0.9647216796875, 0.94189453125, 0.9501953125, 0.94140625]\n3\n[0.96484375, 0.969940185546875, 0.9871673583984375, 0.978759765625, 0.9818572998046875, 0.978729248046875]\n4\n[0.9871749877929688, 0.9890499114990234, 0.9953265190124512, 0.9922580718994141, 0.9933910369873047, 0.9922561645507812]\n5\n[0.9953269958496094, 0.9960111379623413, 0.9982976317405701, 0.9971795082092285, 0.9975925087928772, 0.997179388999939]\n6\n[0.9982976615428925, 0.9985469505190849, 0.9993798714131117, 0.9989725425839424, 0.9991230070590973, 0.9989725351333618]\n7\n[0.9993798732757568, 0.9994706879369915, 0.9997741018887609, 0.9996257200837135, 0.9996805319096893, 0.9996257196180522]\n8\n[0.9997741020051762, 0.9998071839509066, 0.9999177106001298, 0.9998636584787164, 0.9998836252198089, 0.9998636584496126]\n9\n[0.9999177106074058, 0.9999297616068361, 0.9999700238904552, 0.9999503339568037, 0.9999576073796561, 0.9999503339549847]\n10\n[0.9999700238909099, 0.9999744137902553, 0.9999890804019458, 0.9999819078176415, 0.9999845573563562, 0.9999819078175278]\n11\n[0.9999890804019742, 0.999990679540069, 0.9999960222449111, 0.9999934094395826, 0.9999943746048068, 0.9999934094395755]\n12\n[0.9999960222449129, 0.9999966047736577, 0.9999985509965218, 0.9999975992124299, 0.9999979507996293, 0.9999975992124295]\n13\n[0.9999985509965219, 0.9999987631981683, 0.9999994721618015, 0.9999991254490378, 0.9999992535240609, 0.9999991254490378]\n14\n[0.9999994721618015, 0.999999549461916, 0.9999998077208454, 0.9999996814214656, 0.9999997280762118, 0.9999996814214656]\n15\n",
          "output_type": "stream"
        }
      ]
    },
    {
      "cell_type": "code",
      "source": "def jacobi(z,b):\n    X =  []\n    v = []\n    for i in range(0,len(z)):\n        X.append(0)\n        v.append(0)\n    print(X)\n    k = 0\n    e = 10\n    while e > 0.000001 :\n        for i in range(0,len(z)):\n            v[i] = X[i]\n            sum1 = 0\n            for j in range(0,len(z)):\n                if j!=i:\n                    sum1 = sum1 + z[i][j]*X[j]\n            X[i] = (b[i] - sum1)/z[i][i] \n        e = (abs(X[4])-abs(v[4]))/abs(X[4])\n        k=k+1\n        if k > 30:\n            print('diverging')\n            break\n        print(X)\n        print(k)",
      "metadata": {
        "trusted": true
      },
      "execution_count": 266,
      "outputs": []
    },
    {
      "cell_type": "code",
      "source": "# question 3 using gauss-jacobi\nx = [11,3,0,1,2,0,4,2,0,1,3,2,7,1,0,4,0,4,10,1,2,5,1,3,13]\nX = matrix(5,5,x)\nB = [51,15,15,20,92]\njacobi(X,B)",
      "metadata": {
        "trusted": true
      },
      "execution_count": 267,
      "outputs": [
        {
          "name": "stdout",
          "text": "11 3 0 1 2 \n0 4 2 0 1 \n3 2 7 1 0 \n4 0 4 10 1 \n2 5 1 3 13 \n\n[0, 0, 0, 0, 0]\n[4.636363636363637, 3.75, -0.9155844155844157, 0.5116883116883116, 4.873676323676324]\n1\n[2.6809962764508217, 2.9893731268731267, 0.06665380074470992, 0.41357233675415517, 5.414136230901965]\n2\n[2.799094165529321, 2.363139041902154, 0.20898101183622483, 0.2553563059635849, 5.662389733054123]\n3\n[2.9391315547474277, 2.2299120608183567, 0.20963212973677411, 0.17425555290090672, 5.710752138305681]\n4\n[2.974045817093878, 2.2174959005551926, 0.20980217067243906, 0.155385591062905, 5.714497686090395]\n5\n[2.978466485008248, 2.216474493141182, 0.21089513823285547, 0.1528055820945191, 5.714721744597014]\n6\n[2.9789388590261736, 2.215871994734319, 0.21123340733690327, 0.1524589189950678, 5.71493478030415]\n7\n[2.979095957835789, 2.215649601255511, 0.21127914356950608, 0.15235648140746677, 5.715016268481459]\n8\n[2.979151107078462, 2.215606361094882, 0.21128249645248331, 0.1523249317394761, 5.715031437592136]\n9\n[2.979163009981055, 2.2156008923757247, 0.21128346479512977, 0.15231826633031248, 5.715033173413323]\n10\n",
          "output_type": "stream"
        }
      ]
    },
    {
      "cell_type": "code",
      "source": "#question 3 using gauss-seidel\ns = [11,3,0,1,2,0,4,2,0,1,3,2,7,1,0,4,0,4,10,1,2,5,1,3,13]\nS = matrix(5,5,s)\nC = [51,15,15,20,92]\nseidel(X,C)",
      "metadata": {
        "trusted": true
      },
      "execution_count": 268,
      "outputs": [
        {
          "name": "stdout",
          "text": "11 3 0 1 2 \n0 4 2 0 1 \n3 2 7 1 0 \n4 0 4 10 1 \n2 5 1 3 13 \n\n[3.3496503496503496, 1.9807692307692308, 0.14135864135864143, -0.10409590409590379, 7.076923076923077]\n1\n[3.0487250511726036, 2.226094098209483, 0.21510465059416092, 0.11317748684881543, 5.8129063244447865]\n2\n[2.980952015733301, 2.2151891690208663, 0.2162268754156498, 0.15022504126759842, 5.709034022728213]\n3\n[2.979469934428575, 2.2131317906727404, 0.21215736772874236, 0.1518471704892992, 5.7150190864777395]\n4\n[2.9797093870645956, 2.214927041162888, 0.2113100837130195, 0.15199450169985768, 5.715977099890963]\n5\n[2.979332951119312, 2.21552471908111, 0.21127960096856963, 0.15222688353989539, 5.71528095624952]\n6\n[2.979189412365615, 2.215595771616339, 0.211287619447226, 0.15230341611511305, 5.715057711597505]\n7\n[2.979167353836904, 2.2155976431726465, 0.21128560514698294, 0.15231539756494888, 5.715034188414962]\n8\n[2.9791657425921687, 2.215598634376102, 0.2112843008437631, 0.1523165574054648, 5.715034252201625]\n9\n[2.9791654214916856, 2.215599361695907, 0.21128406496109495, 0.152316810266003, 5.715033951528846]\n10\n[2.979165249334585, 2.215599547273722, 0.2112840495975424, 0.15231691232885716, 5.715033680982922]\n11\n",
          "output_type": "stream"
        }
      ]
    },
    {
      "cell_type": "code",
      "source": "def LU_decomposition(z):\n    LTriangle = []\n    for y in range(len(z)):\n        a = []\n        for i in range(len(z)):\n            a.append(0)\n        LTriangle.append(a)\n\n    UTriangle = []\n    for y in range(len(z)):\n        a = []\n        for i in range(len(z)):\n            a.append(0)\n        UTriangle.append(a)\n\n\n    for i in range(len(z)):                 \n        for k in range(i, len(z)):\n            sum1 = 0\n            for j in range(i):\n                sum1 = sum1 + (LTriangle[i][j] * UTriangle[j][k])            \n            UTriangle[i][k] = z[i][k] - sum1    \n \n        for k in range(i, len(z)):\n            if (i == k):\n                LTriangle[i][i] = 1                                         \n            else: \n                sum1 = 0                                                       \n                for j in range(i):\n                    sum1 = sum1 + (LTriangle[k][j] * UTriangle[j][i])\n \n                LTriangle[k][i] = ((z[k][i] - sum1)/UTriangle[i][i])\n    return LTriangle,UTriangle\n            ",
      "metadata": {
        "trusted": true
      },
      "execution_count": 309,
      "outputs": []
    },
    {
      "cell_type": "code",
      "source": "def forwardsub(A,B):\n    i=0\n    Y=[]\n    for k in range(len(A)):\n        Y.append(0)\n    while i<len(A):\n        j=0\n        temp=0\n        while j<i:\n            temp+=A[i][j]*Y[j]\n            j+=1\n        Y[i]=(B[i]-temp)/A[i][i]\n        i+=1\n    return Y\n\n#Program for backward substitution\ndef backwardsub(A,Y):\n    i=len(A)-1\n    X=[]\n    for l in range(len(A)):\n        X.append(0)\n    while i>=0:\n        j=i+1\n        temp=0\n        while j<len(A):\n            temp+=A[i][j]*X[j]\n            j+=1\n        X[i]=(Y[i]-temp)/A[i][i]\n        i-=1\n        return X",
      "metadata": {
        "trusted": true
      },
      "execution_count": 310,
      "outputs": []
    },
    {
      "cell_type": "code",
      "source": "#Forward substitution:\ndef forward(z,b):\n    i = 0\n    X1 = []\n    for k in range(0,len(z)):\n        X1.append(0)\n    while i<len(z):\n        j = 0\n        ctr = 0\n        while j<i:\n            ctr = ctr + z[i][j]*X1[j]\n            j = j+1\n        X1[i] = (b[i]-ctr)/z[i][i]\n        i = i+1\n    return X1\n            \ndef backward(z,X1):\n    i = len(z)-1\n    X2 = []\n    for l in range(len(z)):\n        X2.append(0)\n    while i>= 0:\n        j = i + 1\n        sum1 = 0\n        while j<len(z):\n            sum1 = sum1 + z[i][j]*X2[j]\n            j = j+1\n            \n        X2[i] = (X1[i]-ctr)/z[i][i]\n        i = i - 1\n        return X2\n        \n    ",
      "metadata": {
        "trusted": true
      },
      "execution_count": 311,
      "outputs": []
    },
    {
      "cell_type": "code",
      "source": "z = [1,-1,4,0,2,9,0,5,-2,7,8,4,1,0,5,7,3,-2,6,-1,2,3,0,8,-4,2,0,5,-5,3,0,7,-1,5,4,-2]\nZ = matrix(6,6,z)\nb = [19,2,13,-7,-9,2]\nL,U = LU_decomposition(Z)\n# print(\"\")\nprint(L)\nprint(\"\")\nprint(U)\nprint(\"\")\nY=forwardsub(L,b)\nprint(Y)\nX=backwardsub(U,Y)\nprint(\"\")\nprint(X)",
      "metadata": {
        "trusted": true
      },
      "execution_count": 315,
      "outputs": [
        {
          "name": "stdout",
          "text": "1 -1 4 0 2 9 \n0 5 -2 7 8 4 \n1 0 5 7 3 -2 \n6 -1 2 3 0 8 \n-4 2 0 5 -5 3 \n0 7 -1 5 4 -2 \n\n[[1, 0, 0, 0, 0, 0], [0.0, 1, 0, 0, 0, 0], [1.0, 0.2, 1, 0, 0, 0], [6.0, 1.0, -14.285714285714286, 1, 0, 0], [-4.0, -0.4, 10.857142857142858, -0.6973684210526315, 1, 0], [0.0, 1.4, 1.2857142857142856, -0.15789473684210523, 1.5172054223149114, 1]]\n\n[[1, -1, 4, 0, 2, 9], [0, 5.0, -2.0, 7.0, 8.0, 4.0], [0, 0, 1.4, 5.6, -0.6000000000000001, -11.8], [0, 0, 0, 76.0, -28.571428571428573, -218.57142857142858], [0, 0, 0, 0, -7.210526315789473, 16.28947368421055], [0, 0, 0, 0, 0, -51.65432742440045]]\n\n[19.0, 2.0, -6.399999999999999, -214.42857142857142, -12.25, -7.842805005213755]\n\n[0, 0, 0, 0, 0, 0.15183248715593525]\n",
          "output_type": "stream"
        }
      ]
    },
    {
      "cell_type": "code",
      "source": "\n",
      "metadata": {
        "trusted": true
      },
      "execution_count": null,
      "outputs": []
    },
    {
      "cell_type": "code",
      "source": "",
      "metadata": {},
      "execution_count": null,
      "outputs": []
    },
    {
      "cell_type": "code",
      "source": "",
      "metadata": {},
      "execution_count": null,
      "outputs": []
    }
  ]
}