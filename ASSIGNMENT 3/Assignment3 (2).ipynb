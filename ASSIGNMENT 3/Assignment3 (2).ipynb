{
  "metadata": {
    "language_info": {
      "codemirror_mode": {
        "name": "python",
        "version": 3
      },
      "file_extension": ".py",
      "mimetype": "text/x-python",
      "name": "python",
      "nbconvert_exporter": "python",
      "pygments_lexer": "ipython3",
      "version": "3.8"
    },
    "kernelspec": {
      "name": "python",
      "display_name": "Python (Pyodide)",
      "language": "python"
    }
  },
  "nbformat_minor": 4,
  "nbformat": 4,
  "cells": [
    {
      "cell_type": "code",
      "source": "# printin of a matrix\ndef prnt_matrix(a):\n  for i in range(0,len(a)):\n    for j in range(0,len(a[i])):\n      print(a[i][j],end = \" \")\n    print(\"\")\n  print(\"\")\n",
      "metadata": {
        "trusted": true
      },
      "execution_count": 25,
      "outputs": []
    },
    {
      "cell_type": "code",
      "source": "def max_swap(z,a):\n  for i in range(a,len(z)): #for swapping(sorting) the rows with largest element and smallest element \n    for j in range(i+1,len(z)):\n      if abs(z[i][a]) < abs(z[j][a]):\n        m = z[i]\n        z[i] = z[j]\n        z[j] = m\n      else:\n        break\n  \n\ndef norm_row(z,a):\n  x = []  #for creating All the diagonal elements 1\n  for i in range(0,len(z)+1):\n    c = z[a][i]\n    x.append(round(c/z[a][a],2))\n  z[a] = x\n  \n\n\ndef coloumn(z,a):\n  for i in range(a+1,len(z)):\n    x = []\n    if abs(z[i][a]) > 0:  #for making a elements 0 that are below the diagonal elemnt\n      for j in range(0,len(z[i])):\n        c = round(z[i][j] - z[a][j]*z[i][a],2)\n        x.append(c)\n      z[i] = x\n  \n  \n\ndef reverse_coloumn(z,a): #for making a elements 0 that are above the diagonal elemnt\n  for i in range(a-1,-1,-1):\n    if abs(z[i][a]) > 0:\n      for j in range(len(z[i])-1,-1,-1):\n        c = round(z[i][j]-z[a][j]*z[i][a],2) \n        z[i][j] = c\n  return z\n\ndef give_solutions(z):\n    for i in range(0,len(z)): # the output matrix is an augumented matrix \n        print((i+1),end =\" root is equal to \") # for printing the last element of each row.\n        print(z[i][len(z)])",
      "metadata": {
        "trusted": true
      },
      "execution_count": 26,
      "outputs": []
    },
    {
      "cell_type": "code",
      "source": "# for gauss-jordan elemination\ndef gj_elimination(z):\n  for i in range(0,len(z)): \n    max_swap(z,i)  #for creating a lower triangular matrix \n    norm_row(z,i) \n    coloumn(z,i)\n  for j in range(len(z)-1,-1,-1):\n    reverse_coloumn(z,j) #for creating all other elements above diagonal 0.\n  give_solutions(z)\n  return z\n",
      "metadata": {
        "trusted": true
      },
      "execution_count": 27,
      "outputs": []
    },
    {
      "cell_type": "code",
      "source": "def seidel(a,b):\n  L = []\n  v = []\n  for i in range(0,len(a)):\n    L.append(0) #creating 2 zero row matrix that has our guess solution 0.\n    v.append(0)\n  # print(L)\n  # print(v)\n  k = 0\n  e = 10\n  while e > 0.000001: #setting the epsilon \n    for i in range(0,len(a)):\n      sum1 = 0\n      sum2 = 0\n      for j in range(0,i): \n        sum1 = sum1 + a[i-1][j-1]*L[j-1] \n      for j in range(i+1,len(a)):\n        sum2 = sum2 + a[i-1][j-1]*L[j-1]\n      v[i-1] = L[i-1] # storing the values of previous iteration\n      L[i-1] = (b[i-1] - sum1 - sum2)/a[i-1][i-1]\n    e = (abs(L[3])-abs(v[3]))/abs(L[3])  # calculation of episilon after each iteration\n    k = k + 1\n    print(L)\n    print(k)\n    if k > 30:  #stopping the loop after 30 iterations\n      print('diverging')\n      break",
      "metadata": {
        "trusted": true
      },
      "execution_count": 28,
      "outputs": []
    },
    {
      "cell_type": "code",
      "source": "def jacobi(z,b):\n    X =  []\n    v = []\n    for i in range(0,len(z)):\n        X.append(0)\n        v.append(0) # creating 2 zero arrays of same length\n    # print(X)\n    k = 0\n    e = 10\n    while e > 0.000001 : #setting the episilon \n        for i in range(0,len(z)):\n            v[i] = X[i] #storing the values of previous iteration\n            sum1 = 0\n            for j in range(0,len(z)):\n                if j!=i:\n                    sum1 = sum1 + z[i][j]*X[j]\n            X[i] = (b[i] - sum1)/z[i][i] \n        e = (abs(X[4])-abs(v[4]))/abs(X[4]) #calculationg the epsilon\n        k=k+1\n        if k > 30:\n            print('diverging')\n            break\n        print(X)\n        print(k)",
      "metadata": {
        "trusted": true
      },
      "execution_count": 29,
      "outputs": []
    },
    {
      "cell_type": "code",
      "source": "def LU_decomposition(z):\n    LTriangle = []\n    for y in range(len(z)):\n        a = []\n        for i in range(len(z)): #creating 2 zero matrix of equalm size\n            a.append(0)\n        LTriangle.append(a)\n\n    UTriangle = []\n    for y in range(len(z)):\n        a = []\n        for i in range(len(z)):\n            a.append(0)\n        UTriangle.append(a)\n\n\n    for i in range(len(z)):                 \n        for k in range(i, len(z)):    #decomposing matrix into L and U\n            sum1 = 0                  # such that L*U = z\n            for j in range(i):\n                sum1 = sum1 + (LTriangle[i][j] * UTriangle[j][k])            \n            UTriangle[i][k] = z[i][k] - sum1    \n \n        for k in range(i, len(z)):\n            if (i == k):\n                LTriangle[i][i] = 1         #Doolittle LU to make diagonal terms 1 .                                \n            else: \n                sum1 = 0                                                       \n                for j in range(i):\n                    sum1 = sum1 + (LTriangle[k][j] * UTriangle[j][i])\n \n                LTriangle[k][i] = ((z[k][i] - sum1)/UTriangle[i][i])\n    return LTriangle,UTriangle #returning L and U\n            ",
      "metadata": {
        "trusted": true
      },
      "execution_count": 30,
      "outputs": []
    },
    {
      "cell_type": "code",
      "source": "#Forward substitution:\ndef forward(z,b):\n    i = 0\n    X1 = []\n    for k in range(0,len(z)): #creating a zero array\n        X1.append(0)\n    while i<len(z):\n        j = 0\n        ctr = 0\n        while j<i:\n            ctr = ctr + z[i][j]*X1[j]\n            j = j+1\n        X1[i] = (b[i]-ctr)/z[i][i]\n        i = i+1\n    return X1\n\n#Backward substitution:     \ndef backward(z,X1):\n    i = len(z)-1\n    X2 = []\n    for l in range(len(z)):  #creating a zero array\n        X2.append(0)\n    while i>= 0:\n        j = i\n        sum1 = 0\n        while j<len(z):\n            sum1 = sum1 + z[i][j]*X2[j]\n            j = j+1\n            \n        X2[i] = (X1[i]-sum1)/z[i][i]\n        i = i - 1\n    return X2\n",
      "metadata": {
        "trusted": true
      },
      "execution_count": 31,
      "outputs": []
    },
    {
      "cell_type": "code",
      "source": "def is_symetric(z):\n    for i in range(0,len(z)):\n        for j in range(0,len(z)):\n            if z[i][j] != z[j][i]:\n                return False\n    return True\n            \n    \ndef Transpose_sq(z):\n    x = []\n    for i in range(0,len(z)):\n        y = []\n        for j in range(0,len(z)):\n            y.append(z[j][i])\n        x.append(y)\n    return x\n            ",
      "metadata": {
        "trusted": true
      },
      "execution_count": 32,
      "outputs": []
    },
    {
      "cell_type": "code",
      "source": "def cholesky(z):\n    if is_symetric(z):                                       \n        i=0  #checking symitric matrix\n        while i <len(z):\n            j=0\n            sum1=0\n            while j<i:\n                sum1 = sum1 + z[j][i]*z[j][i]\n                j = j + 1\n            z[i][i]=(z[i][i]-sum1)**(0.5)                       \n            j=i+1\n            while j<len(z):\n                k=0\n                sum1=0\n                while k<i:\n                    sum1 = sum1 + z[i][k]*z[k][j]\n                    k = k + 1\n                z[j][i]=(z[j][i]-sum1)/z[i][i]                  \n                z[i][j]=z[j][i]\n                j=j+1\n            i=i+1\n        i=0\n        while i <len(z):                                        \n            j=i+1\n            while j<len(z): #making all the elements above the diagonal 0\n                z[i][j]=0   #To get a trangular matrix\n                j=j+1\n            i=i+1 \n    return z",
      "metadata": {
        "trusted": true
      },
      "execution_count": 33,
      "outputs": []
    },
    {
      "cell_type": "code",
      "source": "",
      "metadata": {},
      "execution_count": null,
      "outputs": []
    },
    {
      "cell_type": "code",
      "source": "#question1 using gauss-jordan\nwith open('q1_gauss-jordan.txt', 'r') as n:\n    n1 = [[float(num) for num in line.split(',')] for line in n]\nprint(n1)\n\nprint(\"\")\n\ngj_elimination(n1)\nprint(\" \")\nprnt_matrix(n1)",
      "metadata": {
        "trusted": true
      },
      "execution_count": 34,
      "outputs": [
        {
          "name": "stdout",
          "text": "[[1.0, -1.0, 4.0, 0.0, 2.0, 9.0, 19.0], [0.0, 5.0, -2.0, 7.0, 8.0, 4.0, 2.0], [1.0, 0.0, 5.0, 7.0, 3.0, -2.0, 13.0], [6.0, -1.0, 2.0, 3.0, 0.0, 8.0, -7.0], [-4.0, 2.0, 0.0, 5.0, -5.0, 3.0, -9.0], [0.0, 7.0, -1.0, 5.0, 4.0, -2.0, 2.0]]\n\n1 root is equal to -1.75\n2 root is equal to 0.92\n3 root is equal to 4.06\n4 root is equal to -1.63\n5 root is equal to 2.04\n6 root is equal to 0.15\n \n1.0 0.0 0.0 0.0 0.0 0.0 -1.75 \n0.0 1.0 0.0 0.0 0.0 0.0 0.92 \n0.0 0.0 1.0 0.0 0.0 0.0 4.06 \n0.0 0.0 0.0 1.0 0.0 0.0 -1.63 \n-0.0 -0.0 -0.0 -0.0 1.0 0.0 2.04 \n0.0 0.0 0.0 0.0 0.0 1.0 0.15 \n\n",
          "output_type": "stream"
        }
      ]
    },
    {
      "cell_type": "code",
      "source": "#question 1 using LU- decomposition\n\nwith open('q1_(a).txt', 'r') as n:\n    z = [[float(num) for num in line.split(',')] for line in n]\nprint(z)\n\nprint(\"\")\n\n\n\nn2 = open('q1_(b).txt', 'r')\nb= n2.read().split(',')\nfor i in range(0,len(b)):\n    b[i]=float(b[i])\nprint(b)\nprint(\"\")\n\nL,U = LU_decomposition(z)\nprint(\"\")\nprint(L)\nprint(\"\")\n\nprint(U)\nprint(\"\")\n\nY=forward(L,b)\n# print(Y)\nX=backward(U,Y)\n# print(\"\")\nprint(X)",
      "metadata": {
        "trusted": true
      },
      "execution_count": 35,
      "outputs": [
        {
          "name": "stdout",
          "text": "[[1.0, -1.0, 4.0, 0.0, 2.0, 9.0], [0.0, 5.0, -2.0, 7.0, 8.0, 4.0], [1.0, 0.0, 5.0, 7.0, 3.0, -2.0], [6.0, -1.0, 2.0, 3.0, 0.0, 8.0], [-4.0, 2.0, 0.0, 5.0, -5.0, 3.0], [0.0, 7.0, -1.0, 5.0, 4.0, -2.0]]\n\n[19.0, 2.0, 13.0, -7.0, -9.0, 2.0]\n\n\n[[1, 0, 0, 0, 0, 0], [0.0, 1, 0, 0, 0, 0], [1.0, 0.2, 1, 0, 0, 0], [6.0, 1.0, -14.285714285714286, 1, 0, 0], [-4.0, -0.4, 10.857142857142858, -0.6973684210526315, 1, 0], [0.0, 1.4, 1.2857142857142856, -0.15789473684210523, 1.5172054223149114, 1]]\n\n[[1.0, -1.0, 4.0, 0.0, 2.0, 9.0], [0, 5.0, -2.0, 7.0, 8.0, 4.0], [0, 0, 1.4, 5.6, -0.6000000000000001, -11.8], [0, 0, 0, 76.0, -28.571428571428573, -218.57142857142858], [0, 0, 0, 0, -7.210526315789473, 16.28947368421055], [0, 0, 0, 0, 0, -51.65432742440045]]\n\n[-1.761817043997862, 0.8962280338740133, 4.051931404116158, -1.6171308025395421, 2.041913538501913, 0.15183248715593525]\n",
          "output_type": "stream"
        }
      ]
    },
    {
      "cell_type": "code",
      "source": "#question 2 gauss-Seidel\nwith open('q2_(a).txt', 'r') as n:\n    n1 = [[float(num) for num in line.split(',')] for line in n]\nprint(n1)\n\nprint(\"\")\n\nn2 = open('q2_(b).txt', 'r') \nm= n2.read().split(',')\nfor i in range(0,len(m)):\n    m[i]=float(m[i])\nprint(m)\n\nprint(\"\")\n\nseidel(n1,m)",
      "metadata": {
        "trusted": true
      },
      "execution_count": 36,
      "outputs": [
        {
          "name": "stdout",
          "text": "[[4.0, -1.0, 0.0, -1.0, 0.0, 0.0], [-1.0, 4.0, -1.0, 0.0, -1.0, 0.0], [0.0, -1.0, 4.0, 0.0, 0.0, -1.0], [-1.0, 0.0, 0.0, 4.0, -1.0, 0.0], [0.0, -1.0, 0.0, -1.0, 4.0, -1.0], [0.0, 0.0, -1.0, 0.0, -1.0, 4.0]]\n\n[2.0, 1.0, 2.0, 2.0, 1.0, 2.0]\n\n[0.5, 0.375, 0.71875, 0.625, 0.625, 0.5]\n1\n[0.75, 0.7734375, 0.90234375, 0.84375, 0.86328125, 0.8359375]\n2\n[0.904296875, 0.91748046875, 0.9647216796875, 0.94189453125, 0.9501953125, 0.94140625]\n3\n[0.96484375, 0.969940185546875, 0.9871673583984375, 0.978759765625, 0.9818572998046875, 0.978729248046875]\n4\n[0.9871749877929688, 0.9890499114990234, 0.9953265190124512, 0.9922580718994141, 0.9933910369873047, 0.9922561645507812]\n5\n[0.9953269958496094, 0.9960111379623413, 0.9982976317405701, 0.9971795082092285, 0.9975925087928772, 0.997179388999939]\n6\n[0.9982976615428925, 0.9985469505190849, 0.9993798714131117, 0.9989725425839424, 0.9991230070590973, 0.9989725351333618]\n7\n[0.9993798732757568, 0.9994706879369915, 0.9997741018887609, 0.9996257200837135, 0.9996805319096893, 0.9996257196180522]\n8\n[0.9997741020051762, 0.9998071839509066, 0.9999177106001298, 0.9998636584787164, 0.9998836252198089, 0.9998636584496126]\n9\n[0.9999177106074058, 0.9999297616068361, 0.9999700238904552, 0.9999503339568037, 0.9999576073796561, 0.9999503339549847]\n10\n[0.9999700238909099, 0.9999744137902553, 0.9999890804019458, 0.9999819078176415, 0.9999845573563562, 0.9999819078175278]\n11\n[0.9999890804019742, 0.999990679540069, 0.9999960222449111, 0.9999934094395826, 0.9999943746048068, 0.9999934094395755]\n12\n[0.9999960222449129, 0.9999966047736577, 0.9999985509965218, 0.9999975992124299, 0.9999979507996293, 0.9999975992124295]\n13\n[0.9999985509965219, 0.9999987631981683, 0.9999994721618015, 0.9999991254490378, 0.9999992535240609, 0.9999991254490378]\n14\n[0.9999994721618015, 0.999999549461916, 0.9999998077208454, 0.9999996814214656, 0.9999997280762118, 0.9999996814214656]\n15\n",
          "output_type": "stream"
        }
      ]
    },
    {
      "cell_type": "code",
      "source": "#question 2 using choleski\nwith open('q2_(a).txt', 'r') as n:\n    a = [[float(num) for num in line.split(',')] for line in n]\nprint(a)\nprint(\"\")\n\nn2 = open('q2_(b).txt', 'r') \nb= n2.read().split(',')\nfor i in range(0,len(b)):\n    b[i]=float(b[i])\nprint(b)\nprint(\"\")\n\nL = cholesky(a)\nU = Transpose_sq(a)\nprnt_matrix(L)\nprnt_matrix(U)\nY=forward(L,b)\nX=backward(U,Y)\nprint(X)",
      "metadata": {
        "trusted": true
      },
      "execution_count": 37,
      "outputs": [
        {
          "name": "stdout",
          "text": "[[4.0, -1.0, 0.0, -1.0, 0.0, 0.0], [-1.0, 4.0, -1.0, 0.0, -1.0, 0.0], [0.0, -1.0, 4.0, 0.0, 0.0, -1.0], [-1.0, 0.0, 0.0, 4.0, -1.0, 0.0], [0.0, -1.0, 0.0, -1.0, 4.0, -1.0], [0.0, 0.0, -1.0, 0.0, -1.0, 4.0]]\n\n[2.0, 1.0, 2.0, 2.0, 1.0, 2.0]\n\n2.0 0 0 0 0 0 \n-0.5 1.9364916731037085 0 0 0 0 \n0.0 -0.5163977794943222 1.9321835661585918 0 0 0 \n-0.5 -0.12909944487358055 -0.034503277967117704 1.9318754766140744 0 0 \n0.0 -0.5163977794943222 -0.13801311186847082 -0.5546053999849018 1.8457244010396843 0 \n0.0 0.0 -0.5175491695067657 -0.009243423333081693 -0.5832696492049564 1.841698654119145 \n\n2.0 -0.5 0.0 -0.5 0.0 0.0 \n0 1.9364916731037085 -0.5163977794943222 -0.12909944487358055 -0.5163977794943222 0.0 \n0 0 1.9321835661585918 -0.034503277967117704 -0.13801311186847082 -0.5175491695067657 \n0 0 0 1.9318754766140744 -0.5546053999849018 -0.009243423333081693 \n0 0 0 0 1.8457244010396843 -0.5832696492049564 \n0 0 0 0 0 1.841698654119145 \n\n[1.0, 0.9999999999999999, 1.0, 1.0, 1.0, 1.0]\n",
          "output_type": "stream"
        }
      ]
    },
    {
      "cell_type": "code",
      "source": "#question 3 using LU- decomposition\n\nwith open('q3_(a).txt', 'r') as n:\n    c = [[float(num) for num in line.split(',')] for line in n]\nprint(c)\n\nprint(\"\")\n\nn2 = open('q3_(b).txt', 'r')\nb= n2.read().split(',')\nfor i in range(0,len(b)):\n    b[i]=float(b[i])\nprint(b)\nprint(\"\")\n\n\nL,U = LU_decomposition(c)\nY=forward(L,b)\nX=backward(U,Y)\nprint(X)",
      "metadata": {
        "trusted": true
      },
      "execution_count": 38,
      "outputs": [
        {
          "name": "stdout",
          "text": "[[11.0, 3.0, 0.0, 1.0, 2.0], [0.0, 4.0, 2.0, 0.0, 1.0], [3.0, 2.0, 7.0, 1.0, 0.0], [4.0, 0.0, 4.0, 10.0, 1.0], [2.0, 5.0, 1.0, 3.0, 13.0]]\n\n[51.0, 15.0, 15.0, 20.0, 92.0]\n\n[2.97916519278387, 2.2155995755217543, 0.2112840466926071, 0.15231694375663235, 5.715033604527768]\n",
          "output_type": "stream"
        }
      ]
    },
    {
      "cell_type": "code",
      "source": "# question 3 using gauss-jacobi\nwith open('q3_(a).txt', 'r') as n:\n    x = [[float(num) for num in line.split(',')] for line in n]\nprint(x)\nprint(\"\")\n\nn2 = open('q3_(b).txt', 'r')\nB= n2.read().split(',')\nfor i in range(0,len(B)):\n    B[i]=float(B[i])\nprint(B)\nprint(\"\")\n\n\njacobi(x,B)",
      "metadata": {
        "trusted": true
      },
      "execution_count": 39,
      "outputs": [
        {
          "name": "stdout",
          "text": "[[11.0, 3.0, 0.0, 1.0, 2.0], [0.0, 4.0, 2.0, 0.0, 1.0], [3.0, 2.0, 7.0, 1.0, 0.0], [4.0, 0.0, 4.0, 10.0, 1.0], [2.0, 5.0, 1.0, 3.0, 13.0]]\n\n[51.0, 15.0, 15.0, 20.0, 92.0]\n\n[4.636363636363637, 3.75, -0.9155844155844157, 0.5116883116883116, 4.873676323676324]\n1\n[2.6809962764508217, 2.9893731268731267, 0.06665380074470992, 0.41357233675415517, 5.414136230901965]\n2\n[2.799094165529321, 2.363139041902154, 0.20898101183622483, 0.2553563059635849, 5.662389733054123]\n3\n[2.9391315547474277, 2.2299120608183567, 0.20963212973677411, 0.17425555290090672, 5.710752138305681]\n4\n[2.974045817093878, 2.2174959005551926, 0.20980217067243906, 0.155385591062905, 5.714497686090395]\n5\n[2.978466485008248, 2.216474493141182, 0.21089513823285547, 0.1528055820945191, 5.714721744597014]\n6\n[2.9789388590261736, 2.215871994734319, 0.21123340733690327, 0.1524589189950678, 5.71493478030415]\n7\n[2.979095957835789, 2.215649601255511, 0.21127914356950608, 0.15235648140746677, 5.715016268481459]\n8\n[2.979151107078462, 2.215606361094882, 0.21128249645248331, 0.1523249317394761, 5.715031437592136]\n9\n[2.979163009981055, 2.2156008923757247, 0.21128346479512977, 0.15231826633031248, 5.715033173413323]\n10\n",
          "output_type": "stream"
        }
      ]
    },
    {
      "cell_type": "code",
      "source": "# question 3 using gauss-seidel\nwith open('q3_(a).txt', 'r') as n:\n    x = [[float(num) for num in line.split(',')] for line in n]\nprint(x)\nprint(\"\")\n\nn2 = open('q3_(b).txt', 'r')\nB= n2.read().split(',')\nfor i in range(0,len(B)):\n    B[i]=float(B[i])\nprint(B)\nprint(\"\")\n\n\nseidel(x,B)",
      "metadata": {
        "trusted": true
      },
      "execution_count": 40,
      "outputs": [
        {
          "name": "stdout",
          "text": "[[11.0, 3.0, 0.0, 1.0, 2.0], [0.0, 4.0, 2.0, 0.0, 1.0], [3.0, 2.0, 7.0, 1.0, 0.0], [4.0, 0.0, 4.0, 10.0, 1.0], [2.0, 5.0, 1.0, 3.0, 13.0]]\n\n[51.0, 15.0, 15.0, 20.0, 92.0]\n\n[3.3496503496503496, 1.9807692307692308, 0.14135864135864143, -0.10409590409590379, 7.076923076923077]\n1\n[3.0487250511726036, 2.226094098209483, 0.21510465059416092, 0.11317748684881543, 5.8129063244447865]\n2\n[2.980952015733301, 2.2151891690208663, 0.2162268754156498, 0.15022504126759842, 5.709034022728213]\n3\n[2.979469934428575, 2.2131317906727404, 0.21215736772874236, 0.1518471704892992, 5.7150190864777395]\n4\n[2.9797093870645956, 2.214927041162888, 0.2113100837130195, 0.15199450169985768, 5.715977099890963]\n5\n[2.979332951119312, 2.21552471908111, 0.21127960096856963, 0.15222688353989539, 5.71528095624952]\n6\n[2.979189412365615, 2.215595771616339, 0.211287619447226, 0.15230341611511305, 5.715057711597505]\n7\n[2.979167353836904, 2.2155976431726465, 0.21128560514698294, 0.15231539756494888, 5.715034188414962]\n8\n[2.9791657425921687, 2.215598634376102, 0.2112843008437631, 0.1523165574054648, 5.715034252201625]\n9\n[2.9791654214916856, 2.215599361695907, 0.21128406496109495, 0.152316810266003, 5.715033951528846]\n10\n[2.979165249334585, 2.215599547273722, 0.2112840495975424, 0.15231691232885716, 5.715033680982922]\n11\n",
          "output_type": "stream"
        }
      ]
    },
    {
      "cell_type": "code",
      "source": "",
      "metadata": {},
      "execution_count": null,
      "outputs": []
    },
    {
      "cell_type": "code",
      "source": "",
      "metadata": {},
      "execution_count": null,
      "outputs": []
    }
  ]
}