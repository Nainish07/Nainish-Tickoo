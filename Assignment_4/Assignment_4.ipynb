{
  "metadata": {
    "language_info": {
      "codemirror_mode": {
        "name": "python",
        "version": 3
      },
      "file_extension": ".py",
      "mimetype": "text/x-python",
      "name": "python",
      "nbconvert_exporter": "python",
      "pygments_lexer": "ipython3",
      "version": "3.8"
    },
    "kernelspec": {
      "name": "python",
      "display_name": "Python (Pyodide)",
      "language": "python"
    }
  },
  "nbformat_minor": 4,
  "nbformat": 4,
  "cells": [
    {
      "cell_type": "code",
      "source": "import ntlib as l\nimport math\nimport matplotlib.pyplot as plt",
      "metadata": {
        "trusted": true
      },
      "execution_count": 1,
      "outputs": []
    },
    {
      "cell_type": "code",
      "source": "#question 1\ndef f(x):\n    return( math.log(x/2) - math.sin((5*x)/2))   #define the mathematical function\n\na,b = l.bracket(1.5,2.5,f)   #Use bracketting to get the correct interval\n\n\nprint(\"(\",a,b,\") is the new interval\")\nprint(\"\")\n\nl.find_root(a,b,f)   #use bisection to get the root.\n\n#the continous print statments show the convergence of the root with the no. of iterations",
      "metadata": {
        "trusted": true
      },
      "execution_count": 2,
      "outputs": [
        {
          "name": "stdout",
          "text": "( 1.5 2.7 ) is the new interval\n\n2.1 is the root for  1 iterations\n2.4000000000000004 is the root for  2 iterations\n2.5500000000000003 is the root for  3 iterations\n2.5500000000000003 is the root for  4 iterations\n2.5875000000000004 is the root for  5 iterations\n2.60625 is the root for  6 iterations\n2.615625 is the root for  7 iterations\n2.6203125 is the root for  8 iterations\n2.62265625 is the root for  9 iterations\n2.62265625 is the root for  10 iterations\n2.62265625 is the root for  11 iterations\n2.6229492187499996 is the root for  12 iterations\n2.6230957031249997 is the root for  13 iterations\n2.6230957031249997 is the root for  14 iterations\n2.6231323242187496 is the root for  15 iterations\n2.6231323242187496 is the root for  16 iterations\n2.6231323242187496 is the root for  17 iterations\n2.623136901855468 is the root for  18 iterations\n2.623139190673828 is the root for  19 iterations\n2.623140335083008 is the root for  20 iterations\n2.623140335083008 is the root for  21 iterations\n",
          "output_type": "stream"
        }
      ]
    },
    {
      "cell_type": "code",
      "source": "#question 1\ndef f(x):\n    return( math.log(x/2) - math.sin((5*x)/2))  #define the mathematical function\n\na,b = l.bracket(1.5,2.5,f)\n\n\nprint(\"(\",a,b,\") is the new interval\")\n\n\nl.regulafalsi(a,b,f)",
      "metadata": {
        "trusted": true
      },
      "execution_count": 3,
      "outputs": [
        {
          "name": "stdout",
          "text": "( 1.5 2.7 ) is the new interval\n2.2852475558556526  is the root for 0  iterations\n2.2852475558556526  is the root for 1  iterations\n2.623119471158478  is the root for 2  iterations\n2.623119471158478  is the root for 3  iterations\n2.623119471158478  is the root for 4  iterations\n2.6231403354363083  is the root for 5  iterations\n",
          "output_type": "stream"
        }
      ]
    },
    {
      "cell_type": "code",
      "source": "#Question 2\n#for getting the correct interval\ndef f(x):\n    return( -1*(x) - math.cos(x))  #define the mathematical function\ndef f_dash(x):\n    return( -1 + math.sin(x))  #define the mathematical derivative function\n\n\n\n#using regula-falsi\nc,d = l.bracket(1.5,2.5,f)\n\nprint(\"(\",a,b,\") is the new interval\")\nprint(\"\")\nl.regulafalsi(c,d,f)\n\n#the continous print statments show the convergence of the root with the no. of iterations",
      "metadata": {
        "trusted": true
      },
      "execution_count": 4,
      "outputs": [
        {
          "name": "stdout",
          "text": "( 1.5 2.7 ) is the new interval\n\n-0.8000000000000002  is the root for 0  iterations\n-0.8000000000000002  is the root for 1  iterations\n-0.8000000000000002  is the root for 2  iterations\n-0.8000000000000002  is the root for 3  iterations\n-0.8000000000000002  is the root for 4  iterations\n-0.8000000000000002  is the root for 5  iterations\n-0.8000000000000002  is the root for 6  iterations\n-0.8000000000000002  is the root for 7  iterations\n-0.8000000000000002  is the root for 8  iterations\n-0.7390851332151607  is the root for 9  iterations\n",
          "output_type": "stream"
        }
      ]
    },
    {
      "cell_type": "code",
      "source": "#Question 2\n#using newton-raphson\n\ndef f(x):   #define the mathematical function\n    return( -1*(x) - math.cos(x))\n\ndef f_dash(x):\n    return( -1 + math.sin(x))  #define the mathematical derivative function\n\n\n\nl.newton_raphson(5,f,f_dash)  #use newton raphson",
      "metadata": {
        "trusted": true
      },
      "execution_count": 5,
      "outputs": [
        {
          "execution_count": 18,
          "output_type": "execute_result",
          "data": {
            "text/plain": "-0.7390851332151607"
          },
          "metadata": {}
        }
      ]
    },
    {
      "cell_type": "code",
      "source": "#Question 2\n#using bisection\n\nc,d = l.bracket(1.5,2.5,f)\n\nl.find_root(c,d,f)  #Bisection Method\n\n#the continous print statments show the convergence of the root with the no. of iterations",
      "metadata": {
        "trusted": true
      },
      "execution_count": 6,
      "outputs": [
        {
          "name": "stdout",
          "text": "-0.8000000000000002 is the root for  1 iterations\n-0.8000000000000002 is the root for  2 iterations\n-0.8000000000000002 is the root for  3 iterations\n-0.8000000000000002 is the root for  4 iterations\n-0.8000000000000002 is the root for  5 iterations\n-0.7484375000000001 is the root for  6 iterations\n-0.7484375000000001 is the root for  7 iterations\n-0.7484375000000001 is the root for  8 iterations\n-0.7419921875000001 is the root for  9 iterations\n-0.7419921875000001 is the root for  10 iterations\n-0.7403808593750001 is the root for  11 iterations\n-0.7395751953125 is the root for  12 iterations\n-0.73917236328125 is the root for  13 iterations\n-0.73917236328125 is the root for  14 iterations\n-0.73917236328125 is the root for  15 iterations\n-0.7391220092773438 is the root for  16 iterations\n-0.7390968322753907 is the root for  17 iterations\n-0.7390968322753907 is the root for  18 iterations\n-0.7390905380249024 is the root for  19 iterations\n-0.7390873908996582 is the root for  20 iterations\n-0.7390858173370362 is the root for  21 iterations\n-0.7390858173370362 is the root for  22 iterations\n-0.7390854239463807 is the root for  23 iterations\n",
          "output_type": "stream"
        }
      ]
    },
    {
      "cell_type": "code",
      "source": "#question 3\ndef fn(c,z):\n    sum1 =0\n    for i in range(0,len(c)):      #to calculate the value of the mathematical polynomial function\n        sum1 = sum1 + c[i]*(z**(len(c)-i-1))\n    return sum1\n\n\n\n\nn1= open('Lagurre.txt', 'r')\nc= n1.read().split(',')\nfor i in range(0,len(c)):   #take input to generate the polynomial\n    c[i]=float(c[i])\nprint(c)\nprint(\"\")\n\n\n\nz = 0\nl.lagurre(c,0,4)  #find the roots using lagurre",
      "metadata": {
        "trusted": true
      },
      "execution_count": 13,
      "outputs": [
        {
          "name": "stdout",
          "text": "[1.0, 0.0, -5.0, 0.0, 4.0]\n\n-1.0 is a root\n-1.9999999997991764 is a root\n0.9999999991967063 is a root\n2.00000000060247 is a root\n",
          "output_type": "stream"
        }
      ]
    },
    {
      "cell_type": "code",
      "source": "#question 4\n\nn2= open('leats_sq_fit_Y.txt', 'r')\nY= n2.read().split(',')\nfor i in range(0,len(Y)):   #take input and generate a list for Y coordinates\n    Y[i]=float(Y[i])\nprint(Y)\nprint(\"\")\n\n\nn3= open('leats_sq_fit_X.txt', 'r')\nX= n3.read().split(',')\nfor i in range(0,len(X)):   #take input and generate a list for X coordinates\n    X[i]=float(X[i])\nprint(X)\nprint(\"\")\n\n\nplt.scatter((X),Y)\nplt.show()  \n\nn = 4\n#as we are fitting for a 3rd degree polynomial\n\nV,c =l.least_sq_fit(X,Y,4)   #use least sq fit function to generte the matrix A & B\n                             # of the relation AX = B\nprint(\"\")\n\nl.create_augument(V,c)    #create an augument matrix\n\nprint(\"\")\n\nG = l.gj_elimination(V)  #Use gauss-jordan elimination to solve the linear equations.\n\nPolynomial = []\nN=len(G)\nfor i in range(N-1,-1,-1):\n    Polynomial.append(G[i][N])\nprint(\"\")\n\nprint(\"for ax^3 + bx^2 + cx + d\")\n\nprint(Polynomial,\" is the fitted polynomial\")",
      "metadata": {
        "trusted": true
      },
      "execution_count": 43,
      "outputs": [
        {
          "name": "stdout",
          "text": "[0.486, 0.866, 0.944, 1.144, 1.103, 1.202, 1.166, 1.191, 1.124, 1.095, 1.122, 1.102, 1.099, 1.017, 1.111, 1.117, 1.152, 1.265, 1.28, 1.575, 1.857]\n\n[0.0, 0.05, 0.1, 0.15, 0.2, 0.25, 0.3, 0.35, 0.4, 0.45, 0.5, 0.55, 0.6, 0.65, 0.7, 0.75, 0.8, 0.85, 0.9, 0.95, 1.0]\n\n",
          "output_type": "stream"
        },
        {
          "output_type": "display_data",
          "data": {
            "text/plain": "<pyolite.display.Image at 0x3b63e78>",
            "image/png": "[encoded data removed]"
          },
          "metadata": {}
        },
        {
          "name": "stdout",
          "text": "",
          "output_type": "stream"
        },
        {
          "name": "stdout",
          "text": "\n[21.0, 10.499999999999998, 7.174999999999999, 5.5125, 24.018000000000004]\n[10.499999999999998, 7.174999999999999, 5.5125, 4.516662500000001, 13.144499999999997]\n[7.174999999999999, 5.5125, 4.516662500000001, 3.85415625, 9.387365]\n[5.5125, 4.516662500000001, 3.85415625, 3.3821220312499998, 7.486540499999999]\n\n1 root is equal to 0.5717789384528928\n2 root is equal to 4.764647471775076\n3 root is equal to -11.204693552060617\n4 root is equal to 7.687169174582472\n\nfor ax^3 + bx^2 + cx + d\n[7.687169174582472, -11.204693552060617, 4.764647471775076, 0.5717789384528928]  is the fitted polynomial\n",
          "output_type": "stream"
        }
      ]
    },
    {
      "cell_type": "code",
      "source": "",
      "metadata": {},
      "execution_count": null,
      "outputs": []
    }
  ]
}